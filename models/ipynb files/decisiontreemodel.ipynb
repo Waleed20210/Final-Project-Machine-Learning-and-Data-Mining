{
 "cells": [
  {
   "cell_type": "code",
   "execution_count": 2,
   "metadata": {
    "colab": {
     "base_uri": "https://localhost:8080/"
    },
    "id": "hdDveto_WGOc",
    "outputId": "89fbd29c-55f3-4d37-9387-e4e387f86b70"
   },
   "outputs": [
    {
     "name": "stdout",
     "output_type": "stream",
     "text": [
      "Accuracy: 0.6537037037037037\n",
      "Precision: 0.6160714285714286\n",
      "Recall: 0.5774058577405857\n",
      "F1-score: 0.5961123110151189\n"
     ]
    },
    {
     "data": {
      "text/plain": [
       "['DT.h5']"
      ]
     },
     "execution_count": 2,
     "metadata": {},
     "output_type": "execute_result"
    }
   ],
   "source": [
    "import pandas as pd\n",
    "from sklearn.preprocessing import StandardScaler\n",
    "from sklearn.tree import DecisionTreeClassifier\n",
    "from sklearn.model_selection import train_test_split\n",
    "from sklearn.metrics import accuracy_score, precision_recall_fscore_support\n",
    "import joblib\n",
    "# Load and preprocess the data\n",
    "df1 = pd.read_csv('2014-15.csv')\n",
    "df2 = pd.read_csv('2015-16.csv')\n",
    "df3 = pd.read_csv('2016-17.csv')\n",
    "df4 = pd.read_csv('2017-18.csv')\n",
    "df5 = pd.read_csv('2018-19.csv')\n",
    "df6 = pd.read_csv('2019-20.csv')\n",
    "df7 = pd.read_csv('2020-2021.csv')\n",
    "df8 = pd.read_csv('2021-2022.csv')\n",
    "df = pd.concat([df1, df2, df3, df4, df5, df6, df7, df8])\n",
    "df.sort_values(by=['HomeTeam'], ascending=True, inplace=True)\n",
    "df.dropna(subset=['FTHG', 'FTAG', 'HS', 'AS', 'HST', 'AST', 'HF', 'AF', 'HC', 'AC', 'HY', 'AY', 'HR', 'AR'], inplace=True)\n",
    "scaler = StandardScaler()\n",
    "normalized_data = scaler.fit_transform(df[['FTHG','FTAG','HS','AS','HST','AST','HF','AF','HC','AC','HY','AY','HR','AR']])\n",
    "weights = [0.25, 0.15, 0.2, 0.1, 0.1, 0.1, 0.1]\n",
    "home_team_rating = normalized_data[:, [0, 2, 4, 6, 8, 10, 12]].dot(weights)\n",
    "away_team_rating = normalized_data[:, [1, 3, 5, 7, 9, 11, 13]].dot(weights)\n",
    "X = pd.DataFrame({'HomeTeamRating': home_team_rating, 'AwayTeamRating': away_team_rating})\n",
    "y = df['FTR'].apply(lambda x: 1 if x == 'H' else 0)\n",
    "\n",
    "# Split the data into training and testing sets\n",
    "X_train, X_test, y_train, y_test = train_test_split(X, y, test_size=0.2, random_state=42)\n",
    "\n",
    "# Train the decision tree model\n",
    "dt = DecisionTreeClassifier(random_state=42)\n",
    "dt.fit(X_train, y_train)\n",
    "\n",
    "# Make predictions and evaluate the model performance\n",
    "y_pred = dt.predict(X_test)\n",
    "accuracy = accuracy_score(y_test, y_pred)\n",
    "precision, recall, f1_score,_= precision_recall_fscore_support(y_test, y_pred, average='binary')\n",
    "\n",
    "print(\"Accuracy:\", accuracy)\n",
    "print(\"Precision:\", precision)\n",
    "print(\"Recall:\", recall)\n",
    "print(\"F1-score:\", f1_score)\n",
    "joblib.dump(dt, 'DT.h5')\n"
   ]
  },
  {
   "cell_type": "code",
   "execution_count": null,
   "metadata": {},
   "outputs": [],
   "source": []
  }
 ],
 "metadata": {
  "colab": {
   "provenance": []
  },
  "kernelspec": {
   "display_name": "Python 3 (ipykernel)",
   "language": "python",
   "name": "python3"
  },
  "language_info": {
   "codemirror_mode": {
    "name": "ipython",
    "version": 3
   },
   "file_extension": ".py",
   "mimetype": "text/x-python",
   "name": "python",
   "nbconvert_exporter": "python",
   "pygments_lexer": "ipython3",
   "version": "3.11.1"
  }
 },
 "nbformat": 4,
 "nbformat_minor": 1
}
