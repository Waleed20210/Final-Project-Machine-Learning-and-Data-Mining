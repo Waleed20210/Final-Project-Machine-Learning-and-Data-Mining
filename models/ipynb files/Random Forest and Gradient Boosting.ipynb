{
 "cells": [
  {
   "cell_type": "code",
   "execution_count": 4,
   "id": "e3e27302",
   "metadata": {},
   "outputs": [
    {
     "name": "stdout",
     "output_type": "stream",
     "text": [
      "Random Forest Classifier:\n",
      "Accuracy: 0.98285536159601\n",
      "Precision: 0.9937673130193906\n",
      "Recall: 0.9689399054692776\n",
      "F1-score: 0.9811965811965813\n",
      "\n",
      "Gradient Boosting Classifier:\n",
      "Accuracy: 0.9978179551122195\n",
      "Precision: 0.9952956989247311\n",
      "Recall: 1.0\n",
      "F1-score: 0.9976423038059953\n"
     ]
    },
    {
     "data": {
      "text/plain": [
       "['gradient_boosting_model.joblib']"
      ]
     },
     "execution_count": 4,
     "metadata": {},
     "output_type": "execute_result"
    }
   ],
   "source": [
    "import pandas as pd\n",
    "from sklearn.model_selection import train_test_split\n",
    "from sklearn.ensemble import RandomForestClassifier, GradientBoostingClassifier\n",
    "from sklearn.metrics import accuracy_score, precision_score, recall_score, f1_score\n",
    "import joblib\n",
    "\n",
    "# Load the dataset and select the relevant features\n",
    "df1 = pd.read_csv('2000-01.csv')\n",
    "df2 = pd.read_csv('2001-02.csv')\n",
    "df3 = pd.read_csv('2002-03.csv')\n",
    "df4 = pd.read_csv('2003-04.csv')\n",
    "df5 = pd.read_csv('2004-05.csv')\n",
    "df6 = pd.read_csv('2005-06.csv')\n",
    "df7 = pd.read_csv('2006-07.csv')\n",
    "df8 = pd.read_csv('2007-08.csv')\n",
    "df9 = pd.read_csv('2008-09.csv')\n",
    "df10 = pd.read_csv('2009-10.csv')\n",
    "df11 = pd.read_csv('2010-11.csv')\n",
    "df12 = pd.read_csv('2011-12.csv')\n",
    "df13 = pd.read_csv('2012-13.csv')\n",
    "df14 = pd.read_csv('2013-14.csv')\n",
    "df15 = pd.read_csv('2014-15.csv')\n",
    "df16 = pd.read_csv('2015-16.csv')\n",
    "df17= pd.read_csv('2016-17.csv')\n",
    "df18 = pd.read_csv('2017-18.csv')\n",
    "df19 = pd.read_csv('2018-19.csv')\n",
    "df20 = pd.read_csv('2019-20.csv')\n",
    "df21 = pd.read_csv('2020-2021.csv')\n",
    "df22 = pd.read_csv('2021-2022.csv')\n",
    "df = pd.concat([df1, df2, df3, df4, df5, df6, df7, df8, df9, df10, df11, df12, df13, df14, df15, df16, df17, df18, df19, df20, df21, df22], axis=0)\n",
    "df = df[['HomeTeam', 'AwayTeam', 'FTHG', 'FTAG', 'FTR', 'HS', 'AS', 'HST', 'AST', 'HF', 'AF', 'HC', 'AC', 'HY', 'AY', 'HR', 'AR']]\n",
    "df = df.dropna()\n",
    "\n",
    "# convert FTR column into binary labels\n",
    "df['FTR_binary'] = df['FTR'].apply(lambda x: 1 if x == 'H' else 0)\n",
    "\n",
    "# split data into training and testing sets\n",
    "X = df[['FTHG', 'FTAG', 'HS', 'AS', 'HST', 'AST', 'HF', 'AF', 'HC', 'AC', 'HY', 'AY', 'HR', 'AR']]\n",
    "y = df['FTR_binary']\n",
    "X_train, X_test, y_train, y_test = train_test_split(X, y, test_size=0.4, random_state=42)\n",
    "\n",
    "# Train a Random Forest Classifier\n",
    "rf = RandomForestClassifier(n_estimators=10, max_depth=5, random_state=20)\n",
    "rf.fit(X_train, y_train)\n",
    "\n",
    "# Evaluate the Random Forest Classifier on the testing set\n",
    "y_pred_rf = rf.predict(X_test)\n",
    "accuracy_rf = accuracy_score(y_test, y_pred_rf)\n",
    "precision_rf = precision_score(y_test, y_pred_rf)\n",
    "recall_rf = recall_score(y_test, y_pred_rf)\n",
    "f1_score_rf = f1_score(y_test, y_pred_rf)\n",
    "\n",
    "print(\"Random Forest Classifier:\")\n",
    "print(\"Accuracy:\", accuracy_rf)\n",
    "print(\"Precision:\", precision_rf)\n",
    "print(\"Recall:\", recall_rf)\n",
    "print(\"F1-score:\", f1_score_rf)\n",
    "\n",
    "# Train a Gradient Boosting Classifier\n",
    "gb = GradientBoostingClassifier(n_estimators=10, max_depth=5, random_state=20)\n",
    "gb.fit(X_train, y_train)\n",
    "\n",
    "# Evaluate the Gradient Boosting Classifier on the testing set\n",
    "y_pred_gb = gb.predict(X_test)\n",
    "accuracy_gb = accuracy_score(y_test, y_pred_gb)\n",
    "precision_gb = precision_score(y_test, y_pred_gb)\n",
    "recall_gb = recall_score(y_test, y_pred_gb)\n",
    "f1_score_gb = f1_score(y_test, y_pred_gb)\n",
    "\n",
    "print(\"\\nGradient Boosting Classifier:\")\n",
    "print(\"Accuracy:\", accuracy_gb)\n",
    "print(\"Precision:\", precision_gb)\n",
    "print(\"Recall:\", recall_gb)\n",
    "print(\"F1-score:\", f1_score_gb)\n",
    "\n",
    "joblib.dump(rf, 'random_forest_model.joblib')\n",
    "joblib.dump(gb, 'gradient_boosting_model.joblib')\n"
   ]
  },
  {
   "cell_type": "code",
   "execution_count": null,
   "id": "30146534",
   "metadata": {},
   "outputs": [],
   "source": []
  }
 ],
 "metadata": {
  "kernelspec": {
   "display_name": "Python 3 (ipykernel)",
   "language": "python",
   "name": "python3"
  },
  "language_info": {
   "codemirror_mode": {
    "name": "ipython",
    "version": 3
   },
   "file_extension": ".py",
   "mimetype": "text/x-python",
   "name": "python",
   "nbconvert_exporter": "python",
   "pygments_lexer": "ipython3",
   "version": "3.11.1"
  }
 },
 "nbformat": 4,
 "nbformat_minor": 5
}
