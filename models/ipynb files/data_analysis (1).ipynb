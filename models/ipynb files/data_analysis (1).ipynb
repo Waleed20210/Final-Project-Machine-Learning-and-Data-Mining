{
 "cells": [
  {
   "cell_type": "code",
   "execution_count": 39,
   "metadata": {
    "id": "1I0ctJsqVcGP",
    "pycharm": {
     "is_executing": true,
     "name": "#%%\n"
    }
   },
   "outputs": [],
   "source": [
    "import pandas as pd\n",
    "from sklearn.preprocessing import MinMaxScaler\n",
    "from sklearn.linear_model import LogisticRegression\n",
    "from sklearn.preprocessing import StandardScaler\n",
    "from sklearn.model_selection import train_test_split\n",
    "from sklearn.metrics import precision_score, recall_score, f1_score\n",
    "from sklearn.preprocessing import StandardScaler, LabelEncoder\n",
    "import joblib"
   ]
  },
  {
   "cell_type": "code",
   "execution_count": 40,
   "metadata": {
    "colab": {
     "base_uri": "https://localhost:8080/"
    },
    "id": "F5D3KIpqXk-V",
    "outputId": "6b17d321-e9c8-4410-fe4f-a9fa6cc5f4cc",
    "pycharm": {
     "name": "#%%\n"
    }
   },
   "outputs": [
    {
     "name": "stdout",
     "output_type": "stream",
     "text": [
      "      HomeTeam  AwayTeam  FTHG  FTAG FTR HTR  HS  AS  HST  AST  HF  AF  HC  \\\n",
      "0            1       100     2     1   H   D  14   4    6    2  13  19   9   \n",
      "1            2       101     2     2   D   A  11  13    3    3  16  10   3   \n",
      "2            3       102     1     2   A   A  14   5    5    4  14  20   4   \n",
      "3            4       103     0     1   A   D  19  11    6    4  10  10   8   \n",
      "4            5       104     0     1   A   D  12   7    2    2  14   9   2   \n",
      "...        ...       ...   ...   ...  ..  ..  ..  ..  ...  ...  ..  ..  ..   \n",
      "2695        13       117     1     0   H   H   6  10    3    4  12  22   3   \n",
      "2696         2       107     4     1   H   D  12   7    6    2  10   5   3   \n",
      "2697         8       127     3     1   H   D  29   7    8    5   6   3   5   \n",
      "2698        20       104     3     2   H   A  24   4    5    2   5  11  13   \n",
      "2699        22       106     0     5   A   A   9  19    0   13  13   7   3   \n",
      "\n",
      "      AC  HY  AY  HR  AR  \n",
      "0      3   2   2   0   1  \n",
      "1      6   1   1   0   0  \n",
      "2      0   2   4   0   0  \n",
      "3      9   1   2   0   0  \n",
      "4      8   0   3   0   0  \n",
      "...   ..  ..  ..  ..  ..  \n",
      "2695   6   2   4   0   0  \n",
      "2696   3   0   1   0   0  \n",
      "2697   3   1   0   0   0  \n",
      "2698   1   0   1   0   0  \n",
      "2699   2   3   1   0   0  \n",
      "\n",
      "[2700 rows x 18 columns]\n"
     ]
    }
   ],
   "source": [
    "# sort the dataframe by hometeams\n",
    "df = pd.read_csv('merged.csv')\n",
    "df_label = pd.read_csv('labels.csv')\n",
    "df_awaydict = pd.read_csv(\"awaydict.csv\")\n",
    "df_homedict = pd.read_csv(\"homedict.csv\")\n",
    "df.sort_values(by=['HomeTeam'], ascending=True)\n",
    "#preprocessing data \n",
    "selected_features = ['HomeTeam', 'AwayTeam','FTHG','FTAG','FTR','HTR','HS','AS','HST','AST','HF','AF','HC','AC','HY','AY','HR','AR']\n",
    "df = df[selected_features].dropna()\n",
    "homedict = dict(zip(df_homedict['HomeTeam'], df_homedict['ID']))\n",
    "awaydict = dict(zip(df_awaydict['AwayTeam'], df_awaydict['ID']))\n",
    "df[\"HomeTeam\"] = df[\"HomeTeam\"].map(homedict)\n",
    "df[\"AwayTeam\"] = df[\"AwayTeam\"].map(awaydict)\n",
    "\n",
    "print(df)\n",
    "\n",
    "\n"
   ]
  },
  {
   "cell_type": "code",
   "execution_count": 48,
   "metadata": {
    "id": "aDGEO5BRhZrg",
    "pycharm": {
     "name": "#%%\n"
    }
   },
   "outputs": [],
   "source": [
    "import pandas as pd\n",
    "#normalizing our data\n",
    "scaler = StandardScaler()\n",
    "normalized_data = pd.DataFrame(scaler.fit_transform(df[['FTHG','FTAG','HS','AS','HST','AST','HF','AF','HC','AC','HY','AY','HR','AR']]))\n",
    "\n",
    "# assign weights to each parameter (full-timegoals, shots, shots on target, fouls,corners, yellow cards, red cards )\n",
    "weights = [0.25, 0.15, 0.2, 0.1, 0.1, 0.1, 0.1]\n",
    "# calculate team ratings for each match\n",
    "home_team_rating = normalized_data.iloc[:, [2, 4 , 6, 8, 10, 10, 12]].mul(weights).sum(axis=1)\n",
    "away_team_rating = normalized_data.iloc[:, [1, 3 , 5 ,7, 9, 11, 13]].mul(weights).sum(axis=1)\n",
    "\n",
    "\n",
    "\n"
   ]
  },
  {
   "cell_type": "code",
   "execution_count": 51,
   "metadata": {
    "colab": {
     "base_uri": "https://localhost:8080/"
    },
    "id": "0AtfF7_u0tms",
    "outputId": "feca2fc3-3ba7-46c0-c8ce-bb003d7143a1",
    "pycharm": {
     "name": "#%%\n"
    }
   },
   "outputs": [
    {
     "name": "stdout",
     "output_type": "stream",
     "text": [
      "Accuracy: 0.6666666666666666\n",
      "Precision: 0.5991379310344828\n",
      "Recall: 0.6150442477876106\n",
      "F1-score: 0.6069868995633187\n"
     ]
    }
   ],
   "source": [
    "import pandas as pd\n",
    "\n",
    "# combine home and away team ratings into one dataframe\n",
    "homedf = df[\"HomeTeam\"].dropna()\n",
    "awaydf = df[\"AwayTeam\"].dropna()\n",
    "X = pd.concat([home_team_rating, away_team_rating], axis=1)\n",
    "\n",
    "    \n",
    "\n",
    "# convert FTR column into binary labels\n",
    "df['FTR_binary'] = df['FTR'].apply(lambda x: 1 if x == 'H' else 0)\n",
    "\n",
    "# split data into training and testing sets\n",
    "from sklearn.model_selection import train_test_split\n",
    "X_train, X_test, y_train, y_test = train_test_split(X, df['FTR_binary'], test_size=0.2, random_state=42)\n",
    "\n",
    "# train logistic regression model\n",
    "logreg = LogisticRegression()\n",
    "logreg.fit(X_train, y_train)\n",
    "\n",
    "# evaluate model performance\n",
    "from sklearn.metrics import accuracy_score, precision_recall_fscore_support\n",
    "y_pred = logreg.predict(X_test)\n",
    "accuracy = accuracy_score(y_test, y_pred)\n",
    "precision, recall, f1_score,_= precision_recall_fscore_support(y_test, y_pred, average='binary')\n",
    "\n",
    "print(\"Accuracy:\", accuracy)\n",
    "print(\"Precision:\", precision)\n",
    "print(\"Recall:\", recall)\n",
    "print(\"F1-score:\", f1_score)\n"
   ]
  },
  {
   "cell_type": "code",
   "execution_count": 21,
   "metadata": {
    "colab": {
     "base_uri": "https://localhost:8080/"
    },
    "id": "-vgKuFWo_PDG",
    "outputId": "a918b98f-204a-4d4d-c5c1-bdba84bc3b40",
    "pycharm": {
     "name": "#%%\n"
    }
   },
   "outputs": [
    {
     "data": {
      "text/plain": [
       "['logreg_model.h5']"
      ]
     },
     "execution_count": 21,
     "metadata": {},
     "output_type": "execute_result"
    }
   ],
   "source": [
    "#saving the model\n",
    "joblib.dump(logreg, 'logreg_model.h5')"
   ]
  },
  {
   "cell_type": "code",
   "execution_count": 22,
   "metadata": {
    "id": "nJOfbWqbaiOe",
    "pycharm": {
     "name": "#%%\n"
    }
   },
   "outputs": [
    {
     "name": "stdout",
     "output_type": "stream",
     "text": [
      "             0         1\n",
      "0     0.388014  0.084686\n",
      "1    -0.108871  0.067898\n",
      "2    -0.014034  0.202207\n",
      "3    -0.066947  0.074083\n",
      "4    -0.717268 -0.205503\n",
      "...        ...       ...\n",
      "2695 -0.469356  0.216305\n",
      "2696  0.277834 -0.664023\n",
      "2697  0.717898 -0.543074\n",
      "2698  0.503573 -0.453227\n",
      "2699 -0.701989  1.504037\n",
      "\n",
      "[2700 rows x 2 columns]\n"
     ]
    }
   ],
   "source": [
    "\n",
    "print(X)\n"
   ]
  },
  {
   "cell_type": "code",
   "execution_count": 52,
   "metadata": {},
   "outputs": [],
   "source": [
    "homedf = df[\"HomeTeam\"].dropna()\n",
    "awaydf = df[\"AwayTeam\"].dropna()\n",
    "X2 = pd.concat([home_team_rating, away_team_rating,homedf, awaydf], axis=1)\n",
    "X2.to_csv('ratings.csv', index=False)"
   ]
  },
  {
   "cell_type": "code",
   "execution_count": null,
   "metadata": {},
   "outputs": [],
   "source": []
  }
 ],
 "metadata": {
  "colab": {
   "provenance": []
  },
  "kernelspec": {
   "display_name": "Python 3 (ipykernel)",
   "language": "python",
   "name": "python3"
  },
  "language_info": {
   "codemirror_mode": {
    "name": "ipython",
    "version": 3
   },
   "file_extension": ".py",
   "mimetype": "text/x-python",
   "name": "python",
   "nbconvert_exporter": "python",
   "pygments_lexer": "ipython3",
   "version": "3.11.1"
  }
 },
 "nbformat": 4,
 "nbformat_minor": 1
}
