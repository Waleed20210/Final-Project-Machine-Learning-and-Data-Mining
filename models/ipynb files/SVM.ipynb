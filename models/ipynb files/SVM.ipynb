{
 "cells": [
  {
   "cell_type": "code",
   "execution_count": 12,
   "metadata": {
    "colab": {
     "base_uri": "https://localhost:8080/"
    },
    "id": "Ihpf6bIiN0wK",
    "outputId": "b9c3f4b5-6546-4a71-d03a-b2377b9a8c61"
   },
   "outputs": [
    {
     "name": "stdout",
     "output_type": "stream",
     "text": [
      "Accuracy:  0.6518518518518519\n"
     ]
    }
   ],
   "source": [
    "import pandas as pd\n",
    "import numpy as np\n",
    "from sklearn.preprocessing import StandardScaler\n",
    "from sklearn.model_selection import train_test_split\n",
    "from sklearn.metrics import accuracy_score, precision_recall_fscore_support\n",
    "from sklearn.svm import SVC\n",
    "import joblib\n",
    "import pickle\n",
    "# Load and preprocess the data\n",
    "df1 = pd.read_csv('2014-15.csv')\n",
    "df2 = pd.read_csv('2015-16.csv')\n",
    "df3 = pd.read_csv('2016-17.csv')\n",
    "df4 = pd.read_csv('2017-18.csv')\n",
    "df5 = pd.read_csv('2018-19.csv')\n",
    "df6 = pd.read_csv('2019-20.csv')\n",
    "df7 = pd.read_csv('2020-2021.csv')\n",
    "df8 = pd.read_csv('2021-2022.csv')\n",
    "df = pd.concat([df1, df2, df3, df4, df5, df6, df7, df8])\n",
    "df.sort_values(by=['HomeTeam'], ascending=True, inplace=True)\n",
    "df.dropna(subset=['FTHG', 'FTAG', 'HS', 'AS', 'HST', 'AST', 'HF', 'AF', 'HC', 'AC', 'HY', 'AY', 'HR', 'AR'], inplace=True)\n",
    "scaler = StandardScaler()\n",
    "normalized_data = scaler.fit_transform(df[['FTHG','FTAG','HS','AS','HST','AST','HF','AF','HC','AC','HY','AY','HR','AR']])\n",
    "weights = [0.25, 0.15, 0.2, 0.1, 0.1, 0.1, 0.1]\n",
    "home_team_rating = normalized_data[:, [0, 2, 4, 6, 8, 10, 12]].dot(weights)\n",
    "away_team_rating = normalized_data[:, [1, 3, 5, 7, 9, 11, 13]].dot(weights)\n",
    "X = pd.DataFrame({'HomeTeamRating': home_team_rating, 'AwayTeamRating': away_team_rating})\n",
    "y = df['FTR'].apply(lambda x: 1 if x == 'H' else 0)\n",
    "\n",
    "# Split the data into training, validation, and testing sets\n",
    "X_train, X_test, y_train, y_test = train_test_split(X, y, test_size=0.2, random_state=1000)\n",
    "X_train, X_val, y_train, y_val = train_test_split(X_train, y_train, test_size=0.25, random_state=1000)\n",
    "\n",
    "svm = SVC(kernel='sigmoid', C=0.50)\n",
    "\n",
    "# Train the model on the training data\n",
    "svm.fit(X_train, y_train)\n",
    "\n",
    "# Use the model to make predictions on the testing data\n",
    "y_pred = svm.predict(X_test)\n",
    "\n",
    "# Calculate the accuracy of the model\n",
    "accuracy = accuracy_score(y_test, y_pred)\n",
    "print(\"Accuracy: \", accuracy)\n",
    "\n",
    "with open('SVM1.h5', 'wb') as f:\n",
    "    pickle.dump(svm, f)"
   ]
  },
  {
   "cell_type": "code",
   "execution_count": null,
   "metadata": {},
   "outputs": [],
   "source": []
  }
 ],
 "metadata": {
  "colab": {
   "provenance": []
  },
  "kernelspec": {
   "display_name": "Python 3 (ipykernel)",
   "language": "python",
   "name": "python3"
  },
  "language_info": {
   "codemirror_mode": {
    "name": "ipython",
    "version": 3
   },
   "file_extension": ".py",
   "mimetype": "text/x-python",
   "name": "python",
   "nbconvert_exporter": "python",
   "pygments_lexer": "ipython3",
   "version": "3.11.1"
  }
 },
 "nbformat": 4,
 "nbformat_minor": 1
}
